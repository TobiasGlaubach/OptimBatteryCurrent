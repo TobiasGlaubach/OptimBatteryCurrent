{
 "cells": [
  {
   "cell_type": "code",
   "execution_count": 1,
   "metadata": {},
   "outputs": [],
   "source": [
    "from sympy import *\n",
    "import numpy as np\n",
    "\n",
    "from numpy import concatenate\n",
    "from scipy.linalg import block_diag\n"
   ]
  },
  {
   "cell_type": "markdown",
   "metadata": {},
   "source": [
    "# Map python functions to MATAB syntax where possible"
   ]
  },
  {
   "cell_type": "code",
   "execution_count": 2,
   "metadata": {},
   "outputs": [],
   "source": [
    "def ones(*args):\n",
    "    return np.ones(args, dtype=int)\n",
    "def zeros(*args):\n",
    "    return np.zeros(args, dtype=int)\n",
    "def eye(n, m=None, k=0):\n",
    "    if isinstance(n, tuple):\n",
    "        m = n[1]\n",
    "        n = n[0]\n",
    "    return np.eye(n,m,k, dtype=int)\n",
    "\n",
    "catr = lambda x: concatenate(x, 0)\n",
    "catc = lambda x: concatenate(x, 1)\n",
    "size = lambda x: np.shape(x)"
   ]
  },
  {
   "cell_type": "markdown",
   "metadata": {},
   "source": [
    "# Generate the needed symbolic variables"
   ]
  },
  {
   "cell_type": "code",
   "execution_count": 3,
   "metadata": {},
   "outputs": [],
   "source": [
    "# shorten the number of variables for readability\n",
    "T = 3\n",
    "K = 2\n",
    "\n",
    "C_k = list(symbols('C_1:%d'%(K+1)))\n",
    "V_sk_max = list(symbols('V_s1:%d_max'%(K+1)))\n",
    "R_sk_max = list(symbols('R_s1:%d_max'%(K+1)))\n",
    "Delta = symbols('Delta')\n",
    "\n",
    "\n",
    "sum_I_Mn = list(symbols('sum_I_Mn_1:%d'%(T+1)))\n",
    "\n",
    "I_b = list(symbols('I_b_1:%d'%(T+1)))\n",
    "\n",
    "I_out = []\n",
    "I_in = []\n",
    "V_s = []\n",
    "L = []\n",
    "\n",
    "for k in range(K):\n",
    "    I_out += list(symbols('I_ou_%d_1:%d'%(k+1,T+1)))\n",
    "    I_in += list(symbols('I_in_%d_1:%d'%(k+1,T+1)))\n",
    "    V_s += list(symbols('V_s_%d_0:%d'%(k+1,T+1)))\n",
    "    L += list(symbols('L_%d_1:%d'%(k+1,T+1)))\n",
    "\n",
    "x = I_b + I_out + I_in + V_s + L"
   ]
  },
  {
   "cell_type": "code",
   "execution_count": 4,
   "metadata": {},
   "outputs": [
    {
     "data": {
      "text/latex": [
       "$\\displaystyle \\left[\\begin{array}{ccccccccccccccccccccccccccccc}I_{b 1} & I_{b 2} & I_{b 3} & I_{ou 1 1} & I_{ou 1 2} & I_{ou 1 3} & I_{ou 2 1} & I_{ou 2 2} & I_{ou 2 3} & I_{in 1 1} & I_{in 1 2} & I_{in 1 3} & I_{in 2 1} & I_{in 2 2} & I_{in 2 3} & V_{s 1 0} & V_{s 1 1} & V_{s 1 2} & V_{s 1 3} & V_{s 2 0} & V_{s 2 1} & V_{s 2 2} & V_{s 2 3} & L_{1 1} & L_{1 2} & L_{1 3} & L_{2 1} & L_{2 2} & L_{2 3}\\end{array}\\right]$"
      ],
      "text/plain": [
       "Matrix([[I_b_1, I_b_2, I_b_3, I_ou_1_1, I_ou_1_2, I_ou_1_3, I_ou_2_1, I_ou_2_2, I_ou_2_3, I_in_1_1, I_in_1_2, I_in_1_3, I_in_2_1, I_in_2_2, I_in_2_3, V_s_1_0, V_s_1_1, V_s_1_2, V_s_1_3, V_s_2_0, V_s_2_1, V_s_2_2, V_s_2_3, L_1_1, L_1_2, L_1_3, L_2_1, L_2_2, L_2_3]])"
      ]
     },
     "execution_count": 4,
     "metadata": {},
     "output_type": "execute_result"
    }
   ],
   "source": [
    "sum_I_Mn = Matrix(sum_I_Mn)\n",
    "I_b = Matrix(I_b)\n",
    "I_in = Matrix(I_in)\n",
    "I_out = Matrix(I_out)\n",
    "V_s = Matrix(V_s)\n",
    "L = Matrix(L)\n",
    "x = Matrix(x)\n",
    "x.T"
   ]
  },
  {
   "cell_type": "markdown",
   "metadata": {},
   "source": [
    "# constraint 1"
   ]
  },
  {
   "cell_type": "code",
   "execution_count": 5,
   "metadata": {},
   "outputs": [
    {
     "data": {
      "text/latex": [
       "$\\displaystyle \\left[\\begin{matrix}I_{b 1} - I_{in 1 1} - I_{in 2 1} + I_{ou 1 1} + I_{ou 2 1}\\\\I_{b 2} - I_{in 1 2} - I_{in 2 2} + I_{ou 1 2} + I_{ou 2 2}\\\\I_{b 3} - I_{in 1 3} - I_{in 2 3} + I_{ou 1 3} + I_{ou 2 3}\\end{matrix}\\right]$"
      ],
      "text/plain": [
       "Matrix([\n",
       "[I_b_1 - I_in_1_1 - I_in_2_1 + I_ou_1_1 + I_ou_2_1],\n",
       "[I_b_2 - I_in_1_2 - I_in_2_2 + I_ou_1_2 + I_ou_2_2],\n",
       "[I_b_3 - I_in_1_3 - I_in_2_3 + I_ou_1_3 + I_ou_2_3]])"
      ]
     },
     "execution_count": 5,
     "metadata": {},
     "output_type": "execute_result"
    }
   ],
   "source": [
    "\"\"\"\n",
    "% constraint : I_B + sum_k(I_sk_out - I_sk_in) - sum_n(I_Mn) = 0\n",
    "\n",
    "% eq_lh = I_B + sum_k(I_sk_out - I_sk_in);\n",
    "% eq_rh = sum_k(I_Mn, 2);\n",
    "\n",
    "% in matrix form this should be:\n",
    "% [I,   I,    I,    I,    I,    -I,   -I,   -I,   -I] * \n",
    "% [I_b, I_1o, I_2o, I_3o, I_4o, I_1i, I_2i, I_3i, I_4i]^T\n",
    "\"\"\"\n",
    "\n",
    "I = eye(T, T);\n",
    "A1 = eye(T, T);\n",
    "A4 = zeros(T, (T+1)*K);\n",
    "A5 = zeros(T, T*K);\n",
    "\n",
    "for k in range(K):\n",
    "    A2 = catc([A2,  eye(T, T)]) if k > 0 else eye(T, T);\n",
    "    A3 = catc([A3, -eye(T, T)]) if k > 0 else -eye(T, T);\n",
    "    \n",
    "#        I_b, I_sk_out, I_sk_in,  V_sk, L_k\n",
    "eq1_A = catc([A1,  A2,       A3,      A4,   A5]);\n",
    "eq1_b = sum_I_Mn;\n",
    "\n",
    "eq1_A * x"
   ]
  },
  {
   "cell_type": "code",
   "execution_count": 6,
   "metadata": {},
   "outputs": [
    {
     "data": {
      "text/latex": [
       "$\\displaystyle \\left[\\begin{matrix}sum_{I Mn 1}\\\\sum_{I Mn 2}\\\\sum_{I Mn 3}\\end{matrix}\\right]$"
      ],
      "text/plain": [
       "Matrix([\n",
       "[sum_I_Mn_1],\n",
       "[sum_I_Mn_2],\n",
       "[sum_I_Mn_3]])"
      ]
     },
     "execution_count": 6,
     "metadata": {},
     "output_type": "execute_result"
    }
   ],
   "source": [
    "eq1_b"
   ]
  },
  {
   "cell_type": "markdown",
   "metadata": {},
   "source": [
    "This looks good and seems to **match the paper**. The equation given in the paper:\n",
    "\n",
    "\\begin{equation*}\n",
    "I_B + \\sum_{k \\in K} \\left( I_{S_k}^{out} - I_{S_k}^{in} \\right) - \\sum_{n \\in N} I_{M_n} = \\boldsymbol{0}\n",
    "\\end{equation*}"
   ]
  },
  {
   "cell_type": "markdown",
   "metadata": {},
   "source": [
    "# constraint 2 implementation from paper in P1"
   ]
  },
  {
   "cell_type": "code",
   "execution_count": 14,
   "metadata": {},
   "outputs": [
    {
     "name": "stdout",
     "output_type": "stream",
     "text": [
      "((8, 6), (8, 6), (8, 8))\n"
     ]
    },
    {
     "data": {
      "text/latex": [
       "$\\displaystyle \\left[\\begin{matrix}0\\\\I_{in 1 1} c_{2} + I_{ou 1 1} c_{1} - V_{s 1 0} + V_{s 1 1}\\\\I_{in 1 2} c_{2} + I_{ou 1 2} c_{1} - V_{s 1 1} + V_{s 1 2}\\\\I_{in 1 3} c_{2} + I_{ou 1 3} c_{1} - V_{s 1 2} + V_{s 1 3}\\\\0\\\\I_{in 2 1} c_{2} + I_{ou 2 1} c_{1} - V_{s 2 0} + V_{s 2 1}\\\\I_{in 2 2} c_{2} + I_{ou 2 2} c_{1} - V_{s 2 1} + V_{s 2 2}\\\\I_{in 2 3} c_{2} + I_{ou 2 3} c_{1} - V_{s 2 2} + V_{s 2 3}\\end{matrix}\\right]$"
      ],
      "text/plain": [
       "Matrix([\n",
       "[                                            0],\n",
       "[I_in_1_1*c2 + I_ou_1_1*c1 - V_s_1_0 + V_s_1_1],\n",
       "[I_in_1_2*c2 + I_ou_1_2*c1 - V_s_1_1 + V_s_1_2],\n",
       "[I_in_1_3*c2 + I_ou_1_3*c1 - V_s_1_2 + V_s_1_3],\n",
       "[                                            0],\n",
       "[I_in_2_1*c2 + I_ou_2_1*c1 - V_s_2_0 + V_s_2_1],\n",
       "[I_in_2_2*c2 + I_ou_2_2*c1 - V_s_2_1 + V_s_2_2],\n",
       "[I_in_2_3*c2 + I_ou_2_3*c1 - V_s_2_2 + V_s_2_3]])"
      ]
     },
     "execution_count": 14,
     "metadata": {},
     "output_type": "execute_result"
    }
   ],
   "source": [
    "\"\"\"\n",
    "% constraint : (A-I) * V_sk - D_k_out * I_sk_out - D_k_in * I_sk_in = 0\n",
    "\n",
    "% eq_lh = (A-I) * V_sk - D_k_out * I_sk_out - D_k_in * I_sk_in;\n",
    "% eq_rh = 0;\n",
    "\n",
    "% should in matrix form be \n",
    "% [0, A-I, -D_k_out, -D_k_in, 0] *\n",
    "% [I_b, V_sk, I_sk_out, I_sk_in, L_k]^T\n",
    "% where the non zero terms must actually be concat k times\n",
    "\"\"\"\n",
    "\n",
    "# part 1: (A-I) * V_sk\n",
    "A11 = zeros(1, T);\n",
    "A11[0,0] = 1;\n",
    "A12 = zeros(1, 1);\n",
    "A21 = eye(T);\n",
    "A22 = zeros(T,1);\n",
    "\n",
    "A1 = catc([A11, A12])\n",
    "A2 = catc([A21, A22])\n",
    "A_k = catr([A1, A2]);\n",
    "\n",
    "\n",
    "# build block diagonalmatrix with k blocks on diagonal\n",
    "\n",
    "A = block_diag(*[A_k for _ in range(K)])\n",
    "Ia = eye(size(A));\n",
    "\n",
    "# part 2: D_k_out * I_sk_out - D_k_in * I_sk_in\n",
    "tmp = catr([ zeros(1,T), eye(T)]);\n",
    "\n",
    "# stack K times\n",
    "\n",
    "c1, c2 = symbols('c1 c2')\n",
    "\n",
    "D_out = block_diag(*[c1 * tmp for _ in range(K)])\n",
    "D_in = block_diag(*[c2 * tmp for _ in range(K)])\n",
    "\n",
    "Z = zeros(D_out.shape[0], T)\n",
    "Z_k = zeros(D_out.shape[0], K*T)\n",
    "\n",
    "print((size(D_out), size(D_in), size((A-Ia))))\n",
    "#         I_b,  I_sk_out, I_sk_in,  V_sk,    L_k\n",
    "eq2_A = catc([ Z,    -D_out,   -D_in,    (A-Ia), Z_k]);\n",
    "\n",
    "eq2_b = Matrix(zeros(T+1, 1));\n",
    "\n",
    "-1 * (eq2_A * x)"
   ]
  },
  {
   "cell_type": "markdown",
   "metadata": {},
   "source": [
    "\n",
    "whith $c1 = R_{sk_{max}} + \\Delta / C_k$ and $c2 = R_{sk_{max}} - \\Delta / C_k$\n",
    "\n",
    "This is the Matrix equation from P1, and **maches** the equation in the paper:\n",
    "\n",
    "\\begin{equation*}\n",
    "v_{s_k}\\left( t \\right) = -\\sum_{\\tau=1}^t \\left( \\frac{\\Delta}{C_k} \\cdot i_{s_k}  \\left( \\tau \\right) + R_{s_k} \\cdot \\left| i_{s_k} \\left( \\tau \\right) \\right| \\right)\n",
    "\\end{equation*}\n",
    "\n",
    "which is equal to:\n",
    "\n",
    "\\begin{equation*}\n",
    "v_{s_k}\\left( t \\right) =  v_{s_k}\\left( t-1 \\right) - \\left( \\frac{\\Delta}{C_k} \\cdot i_{s_k}  \\left( t \\right) + R_{s_k} \\cdot \\left| i_{s_k} \\left( t \\right) \\right| \\right)\n",
    "\\end{equation*}\n",
    "\n",
    "and by the steps given in the paper we get to:\n",
    "\n",
    "\\begin{equation*}\n",
    "v_{s_k}\\left( t \\right) =  v_{s_k}\\left( t-1 \\right) - \\left( c_1 i_{out_{k}} \\left( t \\right)  + c_2 i_{in_{k}} \\left( t \\right) \\right)\n",
    "\\end{equation*}\n",
    "\n",
    "the last equation however only seems to hold while $I_out < I_in$, which is omitted in the paper and might cause complications."
   ]
  },
  {
   "cell_type": "code",
   "execution_count": null,
   "metadata": {},
   "outputs": [],
   "source": [
    "eq2_b"
   ]
  },
  {
   "cell_type": "code",
   "execution_count": null,
   "metadata": {},
   "outputs": [],
   "source": [
    "A * V_s"
   ]
  },
  {
   "cell_type": "code",
   "execution_count": null,
   "metadata": {},
   "outputs": [],
   "source": [
    "D_out * I_out"
   ]
  },
  {
   "cell_type": "code",
   "execution_count": null,
   "metadata": {},
   "outputs": [],
   "source": [
    "D_in * I_in"
   ]
  },
  {
   "cell_type": "markdown",
   "metadata": {},
   "source": [
    "# constraint 3"
   ]
  },
  {
   "cell_type": "code",
   "execution_count": null,
   "metadata": {},
   "outputs": [],
   "source": [
    "# constraint : E * V_sk = 0\n",
    "\n",
    "# eq_lh = E * V_sk\n",
    "# eq_rh = 0;\n",
    "\n",
    "E_sub = zeros(1, T+1);\n",
    "E_sub[0,0] = 1;\n",
    "E_sub[0,-1] = -1;\n",
    "\n",
    "# stack K times\n",
    "for k in range(K):\n",
    "    E = catc([E, E_sub]) if k > 0 else E_sub;\n",
    "\n",
    "\n",
    "\n",
    "Z1 = zeros(1, T);\n",
    "Z2 = zeros(1, K*T);\n",
    "\n",
    "#         I_b,  I_sk_out,   I_sk_in, V_sk, L_k\n",
    "eq3_A = catc([ Z1,   Z2,         Z2,       E,   Z2 ]);\n",
    "eq3_b = Matrix([[0]]);\n",
    "\n",
    "eq3_A * x"
   ]
  },
  {
   "cell_type": "code",
   "execution_count": null,
   "metadata": {},
   "outputs": [],
   "source": [
    "eq3_b"
   ]
  },
  {
   "cell_type": "markdown",
   "metadata": {},
   "source": [
    "This **matches** the given equation:\n",
    "\n",
    "\\begin{equation*}\n",
    "v_{s_k}\\left( 0 \\right) = v_{s_k}\\left( T \\right)\n",
    "\\end{equation*}\n"
   ]
  },
  {
   "cell_type": "markdown",
   "metadata": {},
   "source": [
    "# combine all constraints to one "
   ]
  },
  {
   "cell_type": "code",
   "execution_count": null,
   "metadata": {},
   "outputs": [],
   "source": [
    "Aeq = catr([eq1_A, eq2_A, eq3_A]);\n",
    "\n",
    "# test for debugging --> this must not fail\n",
    "Aeq * x\n"
   ]
  },
  {
   "cell_type": "code",
   "execution_count": null,
   "metadata": {},
   "outputs": [],
   "source": [
    "beq = Matrix(catr([eq1_b,eq2_b,eq3_b]))\n",
    "beq"
   ]
  },
  {
   "cell_type": "markdown",
   "metadata": {},
   "source": [
    "# inequality constraint 1"
   ]
  },
  {
   "cell_type": "code",
   "execution_count": null,
   "metadata": {},
   "outputs": [],
   "source": [
    "\"\"\"\n",
    "%% inequality constraint 1\n",
    "\n",
    "% constraint : -L_k <= I_sk_out - I_sk_in <= L_k\n",
    "% can be rewritten into: \n",
    "%   (1): -L_k <= I_sk_out - I_sk_in\n",
    "%   (2): I_sk_out - I_sk_in <= L_k      | switch sides\n",
    "% can be rewritten into: \n",
    "%   (1): -L_k <= I_sk_out - I_sk_in\n",
    "%   (2):  L_k >= I_sk_out - I_sk_in     | * -1\n",
    "% can be rewritten into: \n",
    "%   (1): -L_k <=  I_sk_out - I_sk_in    | -I_sk_out | +I_sk_in\n",
    "%   (2): -L_k <= -I_sk_out + I_sk_in    | +I_sk_out | -I_sk_in\n",
    "%  which can be rewritten to:\n",
    "%   (1): -I_sk_out + I_sk_in - L_k <= 0\n",
    "%   (2):  I_sk_out - I_sk_in - L_k <= 0\n",
    "% which in matrix algebra is:\n",
    "\"\"\"\n",
    "\n",
    "Z          = zeros(T*K, T);\n",
    "Z_k        = zeros(T*K, K*(T+1));\n",
    "\n",
    "I = eye(T)\n",
    "E_I_sk_out = eye(T*K);\n",
    "E_I_sk_in = eye(T*K);\n",
    "E_L_k = eye(T*K);\n",
    "\n",
    "#      I_b,  I_sk_out,    I_sk_in,   V_sk,  L_k\n",
    "A_11 = catc([Z,   -E_I_sk_out,  E_I_sk_in, Z_k,  -E_L_k]);\n",
    "b_11 = zeros(T*K, 1);\n",
    "\n",
    "#      I_b,  I_sk_out,    I_sk_in,   V_sk,  L_k\n",
    "A_12 = catc([Z,    E_I_sk_out, -E_I_sk_in, Z_k,  -E_L_k]);\n",
    "b_12 = zeros(T*K, 1);\n",
    "\n",
    "#  combine all inequality constraints\n",
    "A = catr([A_11, A_12]);\n",
    "\n",
    "b = catr([b_11, b_12]);\n",
    "A = Matrix(A)\n",
    "b = Matrix(b)\n",
    "\n",
    "# A * x <= b\n",
    "\n",
    "A * x"
   ]
  },
  {
   "cell_type": "code",
   "execution_count": null,
   "metadata": {},
   "outputs": [],
   "source": [
    "b"
   ]
  },
  {
   "cell_type": "markdown",
   "metadata": {},
   "source": [
    "This **matches** the equation given in the paper:\n",
    "\n",
    "\\begin{equation*}\n",
    "-L_k \\leq I_{S_k}^{out} - I_{S_k}^{in} \\leq L_k\n",
    "\\end{equation*}\n"
   ]
  },
  {
   "cell_type": "code",
   "execution_count": null,
   "metadata": {},
   "outputs": [],
   "source": []
  }
 ],
 "metadata": {
  "kernelspec": {
   "display_name": "Python 3",
   "language": "python",
   "name": "python3"
  },
  "language_info": {
   "codemirror_mode": {
    "name": "ipython",
    "version": 3
   },
   "file_extension": ".py",
   "mimetype": "text/x-python",
   "name": "python",
   "nbconvert_exporter": "python",
   "pygments_lexer": "ipython3",
   "version": "3.7.6"
  }
 },
 "nbformat": 4,
 "nbformat_minor": 4
}
